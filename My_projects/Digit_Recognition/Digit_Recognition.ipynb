{
  "nbformat": 4,
  "nbformat_minor": 0,
  "metadata": {
    "colab": {
      "provenance": [],
      "authorship_tag": "ABX9TyO7LMvLaYfb6IscfD5Zq9iT",
      "include_colab_link": true
    },
    "kernelspec": {
      "name": "python3",
      "display_name": "Python 3"
    },
    "language_info": {
      "name": "python"
    }
  },
  "cells": [
    {
      "cell_type": "markdown",
      "metadata": {
        "id": "view-in-github",
        "colab_type": "text"
      },
      "source": [
        "<a href=\"https://colab.research.google.com/github/Ayushrawat651/Ayushrawat651/blob/main/My_projects/Digit_Recognition/Digit_Recognition.ipynb\" target=\"_parent\"><img src=\"https://colab.research.google.com/assets/colab-badge.svg\" alt=\"Open In Colab\"/></a>"
      ]
    },
    {
      "cell_type": "code",
      "execution_count": null,
      "metadata": {
        "id": "5-SJZ-RFL4fe"
      },
      "outputs": [],
      "source": [
        "import numpy as np\n",
        "import pandas as pd\n",
        "from scipy.sparse import csr_matrix\n",
        "#from sklearn.neighbors import NearestNeighbors\n",
        "from sklearn.neighbors import KNeighborsClassifier\n",
        "import matplotlib.pyplot as plt\n",
        "import random"
      ]
    },
    {
      "cell_type": "code",
      "source": [
        "# Get the data\n",
        "train_data = pd.read_csv('/train.csv')\n",
        "test_data = pd.read_csv('/test.csv')\n",
        "\n",
        "# The test data doesn't have labels so we will have to make our own validation data\n",
        "train_size = round(0.8 * len(train_data))\n",
        "val_size = round(0.2 * len(train_data))\n",
        "\n",
        "train_features = train_data[:train_size]\n",
        "val_features = train_data[train_size:]\n",
        "\n",
        "train_labels = train_features.pop('label')\n",
        "val_labels = val_features.pop('label')\n"
      ],
      "metadata": {
        "id": "oHg81GnVMFEu"
      },
      "execution_count": null,
      "outputs": []
    },
    {
      "cell_type": "code",
      "source": [
        "# Create the model\n",
        "model = KNeighborsClassifier(n_neighbors=3)\n",
        "\n",
        "train_matrix = csr_matrix(train_features.values)\n",
        "model.fit(train_matrix, train_labels.values)"
      ],
      "metadata": {
        "colab": {
          "base_uri": "https://localhost:8080/"
        },
        "id": "kH5IqX1qMd4a",
        "outputId": "060fbaf9-2ebe-4f17-b3cf-c59514e6e4e3"
      },
      "execution_count": null,
      "outputs": [
        {
          "output_type": "execute_result",
          "data": {
            "text/plain": [
              "KNeighborsClassifier(n_neighbors=3)"
            ]
          },
          "metadata": {},
          "execution_count": 6
        }
      ]
    },
    {
      "cell_type": "code",
      "source": [
        "print(\"Accuracy:\")\n",
        "print(model.score(val_features.values, val_labels.values))"
      ],
      "metadata": {
        "colab": {
          "base_uri": "https://localhost:8080/"
        },
        "id": "O_W2ZruvM7tC",
        "outputId": "0c148592-0fac-49b2-e660-5f7dbc12442d"
      },
      "execution_count": null,
      "outputs": [
        {
          "output_type": "stream",
          "name": "stdout",
          "text": [
            "Accuracy:\n",
            "0.9695238095238096\n"
          ]
        }
      ]
    },
    {
      "cell_type": "code",
      "source": [
        "# Make predictions\n",
        "def show_image(img):\n",
        "    plt.figure()\n",
        "    plt.imshow(img, cmap=plt.cm.binary)\n",
        "    plt.colorbar()\n",
        "    plt.grid(False)\n",
        "    plt.show()\n",
        "\n",
        "def predict(model, image_num):\n",
        "    image = test_data.iloc[image_num,0:].values.reshape(28,28)\n",
        "    image_matrix = csr_matrix(test_data.iloc[image_num,0:].values)\n",
        "    \n",
        "    class_names = ['0','1','2','3','4','5','6','7','8','9']\n",
        "    prediction = model.predict(image_matrix)\n",
        "\n",
        "    print(\"Prediction: \" + str(prediction[0]))\n",
        "    show_image(image)\n",
        "    \n",
        "def make_n_predictions(model, n):\n",
        "    for i in range(n):\n",
        "        random_image = random.randint(0,27999)\n",
        "        predict(model, random_image)\n",
        "        \n",
        "# Makes 5 random predictions\n",
        "make_n_predictions(model, 5)"
      ],
      "metadata": {
        "colab": {
          "base_uri": "https://localhost:8080/",
          "height": 1000
        },
        "id": "-TT30AqTM8ra",
        "outputId": "ed99be0e-a9cf-4cae-9b2d-65844b31a4ae"
      },
      "execution_count": null,
      "outputs": [
        {
          "output_type": "stream",
          "name": "stdout",
          "text": [
            "Prediction: 1\n"
          ]
        },
        {
          "output_type": "display_data",
          "data": {
            "text/plain": [
              "<Figure size 432x288 with 2 Axes>"
            ],
            "image/png": "[encoded data removed]"
          },
          "metadata": {
            "needs_background": "light"
          }
        },
        {
          "output_type": "stream",
          "name": "stdout",
          "text": [
            "Prediction: 9\n"
          ]
        },
        {
          "output_type": "display_data",
          "data": {
            "text/plain": [
              "<Figure size 432x288 with 2 Axes>"
            ],
            "image/png": "[encoded data removed]"
          },
          "metadata": {
            "needs_background": "light"
          }
        },
        {
          "output_type": "stream",
          "name": "stdout",
          "text": [
            "Prediction: 7\n"
          ]
        },
        {
          "output_type": "display_data",
          "data": {
            "text/plain": [
              "<Figure size 432x288 with 2 Axes>"
            ],
            "image/png": "[encoded data removed]"
          },
          "metadata": {
            "needs_background": "light"
          }
        },
        {
          "output_type": "stream",
          "name": "stdout",
          "text": [
            "Prediction: 7\n"
          ]
        },
        {
          "output_type": "display_data",
          "data": {
            "text/plain": [
              "<Figure size 432x288 with 2 Axes>"
            ],
            "image/png": "[encoded data removed]"
          },
          "metadata": {
            "needs_background": "light"
          }
        },
        {
          "output_type": "stream",
          "name": "stdout",
          "text": [
            "Prediction: 2\n"
          ]
        },
        {
          "output_type": "display_data",
          "data": {
            "text/plain": [
              "<Figure size 432x288 with 2 Axes>"
            ],
            "image/png": "[encoded data removed]"
          },
          "metadata": {
            "needs_background": "light"
          }
        }
      ]
    }
  ]
}